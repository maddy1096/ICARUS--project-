{
 "cells": [
  {
   "cell_type": "code",
   "execution_count": 2,
   "metadata": {},
   "outputs": [
    {
     "name": "stdout",
     "output_type": "stream",
     "text": [
      "           dt  switch  pktcount  bytecount  dur   dur_nsec       tot_dur  \\\n",
      "0       11425       1     45304   48294064  100  716000000  101000000000   \n",
      "1       11605       1    126395  134737070  280  734000000  281000000000   \n",
      "2       11425       1     90333   96294978  200  744000000  201000000000   \n",
      "3       11425       1     90333   96294978  200  744000000  201000000000   \n",
      "4       11425       1     90333   96294978  200  744000000  201000000000   \n",
      "...       ...     ...       ...        ...  ...        ...           ...   \n",
      "104340   5262       3        79       7742   81  842000000   81842000000   \n",
      "104341   5262       3        79       7742   81  842000000   81842000000   \n",
      "104342   5262       3        31       3038   31  805000000   31805000000   \n",
      "104343   5262       3        31       3038   31  805000000   31805000000   \n",
      "104344   5262       3        31       3038   31  805000000   31805000000   \n",
      "\n",
      "        flows  packetins  pktperflow  ...  src_10.0.0.18  src_10.0.0.2  \\\n",
      "0           3       1943       13535  ...              0             0   \n",
      "1           2       1943       13531  ...              0             0   \n",
      "2           3       1943       13534  ...              0             1   \n",
      "3           3       1943       13534  ...              0             1   \n",
      "4           3       1943       13534  ...              0             1   \n",
      "...       ...        ...         ...  ...            ...           ...   \n",
      "104340      5         10          29  ...              0             0   \n",
      "104341      5         10          29  ...              0             0   \n",
      "104342      5         10          30  ...              0             0   \n",
      "104343      5         10          30  ...              0             0   \n",
      "104344      5         10          30  ...              0             0   \n",
      "\n",
      "        src_10.0.0.20  src_10.0.0.3  src_10.0.0.4  src_10.0.0.5  src_10.0.0.6  \\\n",
      "0                   0             0             0             0             0   \n",
      "1                   0             0             0             0             0   \n",
      "2                   0             0             0             0             0   \n",
      "3                   0             0             0             0             0   \n",
      "4                   0             0             0             0             0   \n",
      "...               ...           ...           ...           ...           ...   \n",
      "104340              0             0             0             1             0   \n",
      "104341              0             0             0             1             0   \n",
      "104342              0             0             0             0             0   \n",
      "104343              0             0             0             0             0   \n",
      "104344              0             0             0             0             0   \n",
      "\n",
      "        src_10.0.0.7  src_10.0.0.8  src_10.0.0.9  \n",
      "0                  0             0             0  \n",
      "1                  0             0             0  \n",
      "2                  0             0             0  \n",
      "3                  0             0             0  \n",
      "4                  0             0             0  \n",
      "...              ...           ...           ...  \n",
      "104340             0             0             0  \n",
      "104341             0             0             0  \n",
      "104342             0             0             0  \n",
      "104343             0             0             0  \n",
      "104344             0             0             0  \n",
      "\n",
      "[104345 rows x 59 columns]\n",
      "0         0\n",
      "1         0\n",
      "2         0\n",
      "3         0\n",
      "4         0\n",
      "         ..\n",
      "104340    0\n",
      "104341    0\n",
      "104342    0\n",
      "104343    0\n",
      "104344    0\n",
      "Name: label, Length: 104345, dtype: int64\n"
     ]
    }
   ],
   "source": [
    "import pandas as pd\n",
    "\n",
    "df = pd.read_csv('F:/Advance cyber security/SDN Dataset/dataset_sdn.csv')\n",
    "\n",
    "y = df.iloc[:,-1]\n",
    "y\n",
    "\n",
    "X_x = pd.get_dummies(df.Protocol, prefix='Protocol')\n",
    "X_x\n",
    " \n",
    "\n",
    "df.insert(22,'Protocol_ICMP',X_x['Protocol_ICMP'])\n",
    "df.insert(23,'Protocol_TCP',X_x['Protocol_TCP'])\n",
    "df.insert(24,'Protocol_UDP',X_x['Protocol_UDP'])\n",
    "\n",
    "df = df.drop(columns=['Protocol'])\n",
    "df = df.drop(columns=['label'])\n",
    "\n",
    "df\n",
    "\n",
    "#zz = pd.get_dummies(df.src, prefix='src')\n",
    "#zz\n",
    "\n",
    "#ff = pd.get_dummies(df.dst, prefix='dst')\n",
    "#ff\n",
    "\n",
    "#final =  pd.concat([ff,zz],axis = 1)\n",
    "#final_df = pd.concat([df,final],axis =1)\n",
    "final_df = pd.concat([df,y],axis = 1)\n",
    "final_df\n",
    "\n",
    "final_df = final_df.drop(columns=['src','dst'])\n",
    "final_df\n",
    "\n",
    "\n",
    "final_df.isna().sum()\n",
    "final_df['rx_kbps'] = final_df['rx_kbps'].fillna(0)\n",
    "final_df['tot_kbps'] = final_df['tot_kbps'].fillna(0)\n",
    "final_df = final_df.astype('int64') \n",
    "final_df\n",
    "\n",
    "X = final_df.iloc[:,:-1]\n",
    "y = final_df.iloc[:,-1]\n",
    "print(X)\n",
    "print(y)\n",
    "\n",
    "from sklearn.model_selection import train_test_split\n",
    "\n",
    "# Split dataset into training set and test set\n",
    "X_train, X_test, y_train, y_test = train_test_split(X, y, test_size=0.2,random_state=109)\n",
    "\n",
    "from sklearn.preprocessing import StandardScaler\n",
    "scaler = StandardScaler()\n",
    "scaler.fit(X_train)\n",
    "\n",
    "X_train = scaler.transform(X_train)\n",
    "X_test = scaler.transform(X_test)\n",
    "\n"
   ]
  },
  {
   "cell_type": "code",
   "execution_count": 3,
   "metadata": {},
   "outputs": [
    {
     "data": {
      "text/plain": [
       "MLPClassifier(activation='relu', alpha=1e-05, batch_size='auto', beta_1=0.9,\n",
       "              beta_2=0.999, early_stopping=False, epsilon=1e-08,\n",
       "              hidden_layer_sizes=(5, 2), learning_rate='constant',\n",
       "              learning_rate_init=0.001, max_iter=200, momentum=0.9,\n",
       "              n_iter_no_change=10, nesterovs_momentum=True, power_t=0.5,\n",
       "              random_state=1, shuffle=True, solver='lbfgs', tol=0.0001,\n",
       "              validation_fraction=0.1, verbose=False, warm_start=False)"
      ]
     },
     "execution_count": 3,
     "metadata": {},
     "output_type": "execute_result"
    }
   ],
   "source": [
    "from sklearn.neural_network import MLPClassifier\n",
    "\n",
    "clf = MLPClassifier(solver='lbfgs', alpha=1e-5,\n",
    "                     hidden_layer_sizes=(5, 2), random_state=1)\n",
    "\n",
    "clf.fit(X_train, y_train)"
   ]
  },
  {
   "cell_type": "code",
   "execution_count": 5,
   "metadata": {},
   "outputs": [
    {
     "name": "stdout",
     "output_type": "stream",
     "text": [
      "0.9876850831376683\n"
     ]
    }
   ],
   "source": [
    "from sklearn.metrics import accuracy_score\n",
    "\n",
    "acc = accuracy_score(y_test, y_pred)\n",
    "print(acc) \n"
   ]
  },
  {
   "cell_type": "code",
   "execution_count": 4,
   "metadata": {},
   "outputs": [],
   "source": [
    "y_pred = clf.predict(X_test)"
   ]
  },
  {
   "cell_type": "code",
   "execution_count": 6,
   "metadata": {},
   "outputs": [],
   "source": [
    "y_pred_train = clf.predict(X_train)"
   ]
  },
  {
   "cell_type": "code",
   "execution_count": 7,
   "metadata": {},
   "outputs": [
    {
     "name": "stdout",
     "output_type": "stream",
     "text": [
      "0.9888111553021227\n"
     ]
    }
   ],
   "source": [
    "from sklearn.metrics import accuracy_score\n",
    "\n",
    "acc = accuracy_score(y_train, y_pred_train)\n",
    "print(acc) \n"
   ]
  },
  {
   "cell_type": "code",
   "execution_count": 8,
   "metadata": {},
   "outputs": [
    {
     "name": "stdout",
     "output_type": "stream",
     "text": [
      "              precision    recall  f1-score   support\n",
      "\n",
      "           0       1.00      0.98      0.99     12718\n",
      "           1       0.97      1.00      0.98      8151\n",
      "\n",
      "    accuracy                           0.99     20869\n",
      "   macro avg       0.99      0.99      0.99     20869\n",
      "weighted avg       0.99      0.99      0.99     20869\n",
      "\n"
     ]
    }
   ],
   "source": [
    "from sklearn.metrics import classification_report\n",
    "target_names = ['0', '1']\n",
    "print(classification_report(y_test, y_pred, target_names=target_names))"
   ]
  },
  {
   "cell_type": "code",
   "execution_count": null,
   "metadata": {},
   "outputs": [],
   "source": []
  }
 ],
 "metadata": {
  "kernelspec": {
   "display_name": "Python 3",
   "language": "python",
   "name": "python3"
  },
  "language_info": {
   "codemirror_mode": {
    "name": "ipython",
    "version": 3
   },
   "file_extension": ".py",
   "mimetype": "text/x-python",
   "name": "python",
   "nbconvert_exporter": "python",
   "pygments_lexer": "ipython3",
   "version": "3.7.4"
  }
 },
 "nbformat": 4,
 "nbformat_minor": 2
}
